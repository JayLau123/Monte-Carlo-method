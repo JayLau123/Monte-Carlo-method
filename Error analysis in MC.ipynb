{
 "cells": [
  {
   "cell_type": "markdown",
   "id": "253f7f17",
   "metadata": {},
   "source": [
    "### Central Limit Theorem (CLT). \n",
    "\n",
    "In practice, many random variables $Y$ are consisted of other random subvariables $X_k$, each single random subvariable plays a insignificant role in the total influence. Such random variable $Y$ has normal distribution approximately.\n",
    "\n",
    "Here, we use the most popular iid CLT."
   ]
  },
  {
   "cell_type": "markdown",
   "id": "992da592",
   "metadata": {},
   "source": [
    "For independent identical distributed(iid) random variables $X_1, X_2, X_3...$, and they share the same expactation and variance: $E(X_k)=\\mu, D(X_k)=\\sigma^2, (k=1,2,3...)$, so the summation of these iid random variables is:\n",
    "\n",
    "$$\\sum_{k=1}^{n}X_k$$"
   ]
  },
  {
   "cell_type": "markdown",
   "id": "032acafa",
   "metadata": {},
   "source": [
    "so the standardized variable is:\n",
    "\n",
    "$$Y_n=\\frac{ \\sum_{k=1}^n X_k -E \\left(\\sum_{k=1}^n X_k\\right)} {\\sqrt{D \\sum_{k=1}^n X_k}}=\\frac{\\sum_{k=1}^n X_k -n \\mu}{\\sqrt{n} \\sigma}$$\n",
    "\n",
    "#### Note: we can convert any normal distribution $N(\\mu, \\sigma^2)$ into standard normal distribution $N(0,1)$.\n"
   ]
  },
  {
   "cell_type": "markdown",
   "id": "7236f4f2",
   "metadata": {},
   "source": [
    "For any value of $x$, the distributation $F_n(x)$ has:\n",
    "\n",
    "$$\\lim _{n \\rightarrow \\infty} F_n(x) =\\lim _{n \\rightarrow \\infty} P\\left\\{\\frac{\\sum_{k=1}^n X_k-n \\mu}{\\sqrt{n} \\sigma} \\leqslant x\\right\\} =\\int_{-\\infty}^x \\frac{1}{\\sqrt{2 \\pi}} \\mathrm{e}^{-t^2 / 2} \\mathrm{~d} t=\\Phi(x)$$"
   ]
  },
  {
   "cell_type": "markdown",
   "id": "54025d71",
   "metadata": {},
   "source": [
    "Therfore, when $n$ is large enough:\n",
    "\n",
    "$$\\dfrac{\\sum_{k=1}^n X_k-n \\mu}{\\sqrt{n} \\sigma} \\sim N(0,1) $$"
   ]
  },
  {
   "cell_type": "markdown",
   "id": "99938c5c",
   "metadata": {},
   "source": [
    "For explicit interpretation, we can rewrite the formual above in this way:\n",
    "\n",
    "$$\\dfrac{\\dfrac{1}{n} \\sum_{k=1}^n X_k-\\mu}{(\\sigma / \\sqrt{n})}=\\dfrac{\\overline{X}-\\mu}{(\\sigma / \\sqrt{n})}$$\n",
    "\n",
    "The meaning of the new form is that independent identically distributed(iid)  random variables $X_1, X_2, X_3...$ that share the same expactation and variance: $E(X_k)=\\mu, D(X_k)=\\sigma^2, (k=1,2,3...)$, their arithmetic average: $\\overline{X}=\\dfrac{1}{n} \\sum_{k=1}^n X_k$ has the normal distribution with mean is $\\mu$ and variance is $\\dfrac{\\sigma^2}{n}$, when $n$ is large enough. \n",
    "\n",
    "Actually, this is the basic theory of Large sample statistics."
   ]
  },
  {
   "cell_type": "markdown",
   "id": "5c98b8bc",
   "metadata": {},
   "source": [
    "When $n$ is large enough, there is an approximate formula:\n",
    "\n",
    "$$P\\left(\\left|\\overline{X}_N-\\mu\\right|<\\frac{\\lambda_\\alpha \\sigma}{\\sqrt{N}}\\right) \\approx \\frac{2}{\\sqrt{2 \\pi}} \\int_0^{\\lambda_\\alpha} e^{-t^2 / 2} d t=1-\\alpha$$\n",
    "\n",
    "$\\alpha$ is the confidence, and $1-\\alpha$ is the confidence level. $\\lambda_\\alpha$ is corresponding to $\\alpha$ that can be found in the standard normal distribution table.\n",
    "\n",
    "| $\\alpha$ | 0.5 | 0.05 | 0.003 \n",
    "| --- | --- | --- | --- |\n",
    "| $\\lambda_\\alpha$ | 0.6745 | 1.96 |  3 |\n",
    "\n",
    "As a result, the error of Monte Carlo method $\\varepsilon$ is defined as:\n",
    "\n",
    "$$ \\varepsilon=\\frac{\\lambda_\\alpha \\sigma}{\\sqrt{N}}$$\n"
   ]
  },
  {
   "cell_type": "markdown",
   "id": "3119b3e3",
   "metadata": {},
   "source": [
    "Note that $\\sigma$ is unknown, and MSE is an unbiased estimator for $\\sigma^2$:\n",
    "\n",
    "$$\\sigma^2=\\sum_i (x_i-\\mu)^2 p(x_i)=\\int(x-\\mu)^2 f(x) d x$$"
   ]
  },
  {
   "cell_type": "markdown",
   "id": "5d5c7f1c",
   "metadata": {},
   "source": [
    "### How to reduce the error in MC\n",
    "\n",
    "When the $\\alpha$ is fixed, the error $\\varepsilon$ is determined by $\\sigma$ and $n$, we can reduce the $\\varepsilon$ by increasing $n$ or decreasing variance $\\sigma^2$, the later one is much more efficient and save more computational resources, because if $\\sigma$ is reduced by half, the error is reduced by half, which is equivalent to quadrupling $n$. As a result, we can choose the optimal random variable, which has the minimum variance $\\sigma$, to build the probabilistic process."
   ]
  },
  {
   "cell_type": "markdown",
   "id": "c54f898c",
   "metadata": {},
   "source": [
    "### Random number\n",
    "\n",
    "#### Truly random number\n",
    "\n",
    "True random numbers is unpredictable, so it is impossible to generate two identical sequences of true random numbers.\n",
    "\n",
    "Some natural process: radioactive decay, thermal noise, cosmic ray arrival\n",
    "\n",
    "#### Pseudorandom\n",
    "\n",
    "Calculated by some mathematical formulas or algorithms that can be expected, the period of pseudorandom number is long enough and approximates the true random number sequence.\n",
    "\n"
   ]
  },
  {
   "cell_type": "code",
   "execution_count": null,
   "id": "68c73cad",
   "metadata": {},
   "outputs": [],
   "source": []
  }
 ],
 "metadata": {
  "kernelspec": {
   "display_name": "Python 3 (ipykernel)",
   "language": "python",
   "name": "python3"
  },
  "language_info": {
   "codemirror_mode": {
    "name": "ipython",
    "version": 3
   },
   "file_extension": ".py",
   "mimetype": "text/x-python",
   "name": "python",
   "nbconvert_exporter": "python",
   "pygments_lexer": "ipython3",
   "version": "3.9.7"
  }
 },
 "nbformat": 4,
 "nbformat_minor": 5
}
